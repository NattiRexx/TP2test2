{
 "cells": [
  {
   "cell_type": "code",
   "execution_count": null,
   "metadata": {},
   "outputs": [],
   "source": [
    "\n",
    "import pandas as pd\n",
    "\n",
    "data = {'C:\\Users\\GONGONET\\Test-2\\Informal_Settlement_Programme_-1898186875815614491.csv'}\n",
    "\n",
    "df = pd.DataFrame(data)\n",
    "\n",
    "def linearSearch(arr, x):\n",
    "    for i in range(len(arr)):\n",
    "        if arr[i] == x:\n",
    "            return i\n",
    "    return -1\n",
    "\n",
    "def binarySearch(arr, x):\n",
    "    low = 0\n",
    "    high = len(arr) - 1\n",
    "    mid = 0\n",
    "\n",
    "    while low <= high:\n",
    "        mid = (high + low) // 2\n",
    "\n",
    "        # Check if x is present at mid\n",
    "        if arr[mid] < x:\n",
    "            low = mid + 1\n",
    "        elif arr[mid] > x:\n",
    "            high = mid - 1\n",
    "        else:\n",
    "            return mid\n",
    "    return -1\n",
    "\n",
    "# Search for an element in the 'population' column\n",
    "searchElement = 234\n",
    "\n",
    "# Apply Linear Search\n",
    "populationList = df['population'].tolist()\n",
    "lsearchResult = linearSearch(populationList, searchElement)\n",
    "print(f\"Linear Search: Element {searchElement} found at index {LsearchResult}\")\n",
    "\n",
    "sortedPopulationList = sorted(populationList)\n",
    "bSearchResult = binarySearch(sortedPopulationList, searchElement)\n",
    "print(f\"Binary Search: Element {searchElement} found at index {bSearchResult} (in sorted list)\")\n"
   ]
  }
 ],
 "metadata": {
  "kernelspec": {
   "display_name": "Python 3 (ipykernel)",
   "language": "python",
   "name": "python3"
  },
  "language_info": {
   "codemirror_mode": {
    "name": "ipython",
    "version": 3
   },
   "file_extension": ".py",
   "mimetype": "text/x-python",
   "name": "python",
   "nbconvert_exporter": "python",
   "pygments_lexer": "ipython3",
   "version": "3.11.7"
  }
 },
 "nbformat": 4,
 "nbformat_minor": 4
}
