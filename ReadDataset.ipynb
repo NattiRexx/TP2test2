{
 "cells": [
  {
   "cell_type": "code",
   "execution_count": null,
   "id": "09dccfa0-3122-481c-96f9-e7cfc4939994",
   "metadata": {},
   "outputs": [],
   "source": [
    "import pandas as pd\n",
    "from sklearn.preprocessing import MinMaxScaler\n",
    "\n",
    "# Load the dataset\n",
    "file_path = 'Informalsettlement.csv'  # Update this with the correct file path\n",
    "\n",
    "try:\n",
    "    df = pd.read_csv(file_path)\n",
    "except FileNotFoundError:\n",
    "    print(f\"Error: The file '{file_path}' does not exist.\")\n",
    "    # Add appropriate handling or exit\n",
    "    exit()\n",
    "\n",
    "# Understanding the size, data types, columns, rows, data slicing and indexing\n",
    "print(\"Shape of the dataset:\", df.shape)\n",
    "print(\"Columns in the dataset:\", df.columns)\n",
    "print(\"Data types of columns:\")\n",
    "print(df.dtypes)\n",
    "print(\"First few rows of the dataset:\")\n",
    "print(df.head())\n",
    "\n",
    "# Identify missing data\n",
    "print(\"Missing data:\")\n",
    "print(df.isnull().sum())\n",
    "\n",
    "# Normalize or standardize data if required (Example: Min-Max scaling)\n",
    "# Example normalization of a specific column (replace 'column_name' with actual column name)\n",
    "column_to_normalize = 'column_name'  # Replace with your actual column name\n",
    "if column_to_normalize in df.columns:\n",
    "    scaler = MinMaxScaler()\n",
    "    df[[column_to_normalize]] = scaler.fit_transform(df[[column_to_normalize]])\n",
    "    print(f\"Normalized column '{column_to_normalize}':\")\n",
    "    print(df[[column_to_normalize]].head())\n",
    "else:\n",
    "    print(f\"Column '{column_to_normalize}' not found in the dataset.\")\n",
    "\n",
    "# Describe the data types for machine learning/statistical datasets\n",
    "# Example for documenting column data types:\n",
    "for col in df.columns:\n",
    "    data_type = \"Numerical\" if pd.api.types.is_numeric_dtype(df[col]) else \"Categorical\"\n",
    "    print(f\"Column: {col}, Data Type: {data_type}\")\n",
    "\n",
    "# Markdown cell example:\n",
    "# | Data Type | Description |\n",
    "# |-----------|-------------|\n",
    "# | Numerical | Continuous  |\n",
    "# | Categorical | Discrete   |\n",
    "\n",
    "# Note: You'll need to repeat this for each column in your dataset\n"
   ]
  }
 ],
 "metadata": {
  "kernelspec": {
   "display_name": "Python 3 (ipykernel)",
   "language": "python",
   "name": "python3"
  },
  "language_info": {
   "codemirror_mode": {
    "name": "ipython",
    "version": 3
   },
   "file_extension": ".py",
   "mimetype": "text/x-python",
   "name": "python",
   "nbconvert_exporter": "python",
   "pygments_lexer": "ipython3",
   "version": "3.11.7"
  }
 },
 "nbformat": 4,
 "nbformat_minor": 5
}
