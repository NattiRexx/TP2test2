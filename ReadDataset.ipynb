{
 "cells": [
  {
   "cell_type": "code",
   "execution_count": null,
   "id": "09dccfa0-3122-481c-96f9-e7cfc4939994",
   "metadata": {},
   "outputs": [],
   "source": [
    "import pandas as pd\n",
    "from sklearn.preprocessing import MinMaxScaler\n",
    "\n",
    "\n",
    "file_path = 'C:\\Users\\GONGONET\\Test-2\\Informal_Settlement_Programme_-1898186875815614491.csv'\n",
    "\n",
    "try:\n",
    "    df = pd.read_csv(file_path)\n",
    "except FileNotFoundError:\n",
    "    print(f\"Error: The file '{file_path}' does not exist.\")\n",
    "    exit()\n",
    "\n",
    "\n",
    "print(\"Shape of the dataset:\", df.shape)\n",
    "print(\"Columns in the dataset:\", df.columns)\n",
    "print(\"Data types of columns:\")\n",
    "print(df.dtypes)\n",
    "print(\"First few rows of the dataset:\")\n",
    "print(df.head())\n",
    "\n",
    "# Identify missing data\n",
    "print(\"Missing data:\")\n",
    "print(df.isnull().sum())\n",
    "\n",
    "# Normalize or standardize data\n",
    "column_to_normalize = 'column_name'  \n",
    "if column_to_normalize in df.columns:\n",
    "    scaler = MinMaxScaler()\n",
    "    df[[column_to_normalize]] = scaler.fit_transform(df[[column_to_normalize]])\n",
    "    print(f\"Normalized column '{column_to_normalize}':\")\n",
    "    print(df[[column_to_normalize]].head())\n",
    "else:\n",
    "    print(f\"Column '{column_to_normalize}' not found in the dataset.\")\n",
    "\n",
    "for col in df.columns:\n",
    "    data_type = \"Numerical\" if pd.api.types.is_numeric_dtype(df[col]) else \"Categorical\"\n",
    "    print(f\"Column: {col}, Data Type: {data_type}\")\n",
    "\n"
   ]
  }
 ],
 "metadata": {
  "kernelspec": {
   "display_name": "Python 3 (ipykernel)",
   "language": "python",
   "name": "python3"
  },
  "language_info": {
   "codemirror_mode": {
    "name": "ipython",
    "version": 3
   },
   "file_extension": ".py",
   "mimetype": "text/x-python",
   "name": "python",
   "nbconvert_exporter": "python",
   "pygments_lexer": "ipython3",
   "version": "3.11.7"
  }
 },
 "nbformat": 4,
 "nbformat_minor": 5
}
